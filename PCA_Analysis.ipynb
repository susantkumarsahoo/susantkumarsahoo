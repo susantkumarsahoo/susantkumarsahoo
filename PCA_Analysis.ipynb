{
  "nbformat": 4,
  "nbformat_minor": 0,
  "metadata": {
    "colab": {
      "provenance": []
    },
    "kernelspec": {
      "name": "python3",
      "display_name": "Python 3"
    },
    "language_info": {
      "name": "python"
    }
  },
  "cells": [
    {
      "cell_type": "markdown",
      "source": [
        "# Principal Component Analysis\n",
        "\n",
        "**PCA**: PCA (Principal Component Analysis) is a method used to reduce the size of multidimensional data and understand the relationships between variables in the data set. Essentially, PCA creates a new set of variables that maximize the variance in the data set, resulting in the principal components that contain the most information."
      ],
      "metadata": {
        "id": "-5faoW_lyfXw"
      }
    },
    {
      "cell_type": "markdown",
      "source": [
        "# Imort Necessary Libraries"
      ],
      "metadata": {
        "id": "O8mxBaPZytNM"
      }
    },
    {
      "cell_type": "code",
      "execution_count": null,
      "metadata": {
        "id": "HYll_CeCyb04"
      },
      "outputs": [],
      "source": [
        "import numpy as np\n",
        "import pandas as pd\n",
        "import seaborn as sns\n",
        "from matplotlib import pyplot as plt\n",
        "\n",
        "pd.set_option(\"display.max_columns\",None)\n",
        "pd.set_option(\"display.max_rows\",None)\n",
        "pd.set_option(\"display.width\",500)\n",
        "pd.set_option(\"display.float_format\", lambda x: \"%.4f\" % x)\n",
        "\n",
        "from sklearn.preprocessing import StandardScaler\n",
        "from sklearn.decomposition import PCA\n",
        "\n",
        "import warnings\n",
        "warnings.filterwarnings(\"ignore\")"
      ]
    },
    {
      "cell_type": "markdown",
      "source": [
        "# Import Dataset"
      ],
      "metadata": {
        "id": "COGd790cy8A8"
      }
    },
    {
      "cell_type": "code",
      "source": [
        "usarrest = pd.read_csv(\"/content/drive/MyDrive/Colab Notebooks/datasets/USArrests.csv\")\n",
        "df = usarrest.copy()\n",
        "df.index = df.iloc[:, 0]\n",
        "df = df.iloc[:, 1:]\n",
        "df.index.name = None\n",
        "df.head()"
      ],
      "metadata": {
        "colab": {
          "base_uri": "https://localhost:8080/",
          "height": 206
        },
        "id": "M3W2vSOcy7Eu",
        "outputId": "f83728b5-ab6b-49db-9589-3e6ba12dc04d"
      },
      "execution_count": null,
      "outputs": [
        {
          "output_type": "execute_result",
          "data": {
            "text/plain": [
              "            Murder  Assault  UrbanPop    Rape\n",
              "Alabama    13.2000      236        58 21.2000\n",
              "Alaska     10.0000      263        48 44.5000\n",
              "Arizona     8.1000      294        80 31.0000\n",
              "Arkansas    8.8000      190        50 19.5000\n",
              "California  9.0000      276        91 40.6000"
            ],
            "text/html": [
              "\n",
              "  <div id=\"df-cc9f8611-ec6c-4252-977d-df5968074fb9\" class=\"colab-df-container\">\n",
              "    <div>\n",
              "<style scoped>\n",
              "    .dataframe tbody tr th:only-of-type {\n",
              "        vertical-align: middle;\n",
              "    }\n",
              "\n",
              "    .dataframe tbody tr th {\n",
              "        vertical-align: top;\n",
              "    }\n",
              "\n",
              "    .dataframe thead th {\n",
              "        text-align: right;\n",
              "    }\n",
              "</style>\n",
              "<table border=\"1\" class=\"dataframe\">\n",
              "  <thead>\n",
              "    <tr style=\"text-align: right;\">\n",
              "      <th></th>\n",
              "      <th>Murder</th>\n",
              "      <th>Assault</th>\n",
              "      <th>UrbanPop</th>\n",
              "      <th>Rape</th>\n",
              "    </tr>\n",
              "  </thead>\n",
              "  <tbody>\n",
              "    <tr>\n",
              "      <th>Alabama</th>\n",
              "      <td>13.2000</td>\n",
              "      <td>236</td>\n",
              "      <td>58</td>\n",
              "      <td>21.2000</td>\n",
              "    </tr>\n",
              "    <tr>\n",
              "      <th>Alaska</th>\n",
              "      <td>10.0000</td>\n",
              "      <td>263</td>\n",
              "      <td>48</td>\n",
              "      <td>44.5000</td>\n",
              "    </tr>\n",
              "    <tr>\n",
              "      <th>Arizona</th>\n",
              "      <td>8.1000</td>\n",
              "      <td>294</td>\n",
              "      <td>80</td>\n",
              "      <td>31.0000</td>\n",
              "    </tr>\n",
              "    <tr>\n",
              "      <th>Arkansas</th>\n",
              "      <td>8.8000</td>\n",
              "      <td>190</td>\n",
              "      <td>50</td>\n",
              "      <td>19.5000</td>\n",
              "    </tr>\n",
              "    <tr>\n",
              "      <th>California</th>\n",
              "      <td>9.0000</td>\n",
              "      <td>276</td>\n",
              "      <td>91</td>\n",
              "      <td>40.6000</td>\n",
              "    </tr>\n",
              "  </tbody>\n",
              "</table>\n",
              "</div>\n",
              "    <div class=\"colab-df-buttons\">\n",
              "\n",
              "  <div class=\"colab-df-container\">\n",
              "    <button class=\"colab-df-convert\" onclick=\"convertToInteractive('df-cc9f8611-ec6c-4252-977d-df5968074fb9')\"\n",
              "            title=\"Convert this dataframe to an interactive table.\"\n",
              "            style=\"display:none;\">\n",
              "\n",
              "  <svg xmlns=\"http://www.w3.org/2000/svg\" height=\"24px\" viewBox=\"0 -960 960 960\">\n",
              "    <path d=\"M120-120v-720h720v720H120Zm60-500h600v-160H180v160Zm220 220h160v-160H400v160Zm0 220h160v-160H400v160ZM180-400h160v-160H180v160Zm440 0h160v-160H620v160ZM180-180h160v-160H180v160Zm440 0h160v-160H620v160Z\"/>\n",
              "  </svg>\n",
              "    </button>\n",
              "\n",
              "  <style>\n",
              "    .colab-df-container {\n",
              "      display:flex;\n",
              "      gap: 12px;\n",
              "    }\n",
              "\n",
              "    .colab-df-convert {\n",
              "      background-color: #E8F0FE;\n",
              "      border: none;\n",
              "      border-radius: 50%;\n",
              "      cursor: pointer;\n",
              "      display: none;\n",
              "      fill: #1967D2;\n",
              "      height: 32px;\n",
              "      padding: 0 0 0 0;\n",
              "      width: 32px;\n",
              "    }\n",
              "\n",
              "    .colab-df-convert:hover {\n",
              "      background-color: #E2EBFA;\n",
              "      box-shadow: 0px 1px 2px rgba(60, 64, 67, 0.3), 0px 1px 3px 1px rgba(60, 64, 67, 0.15);\n",
              "      fill: #174EA6;\n",
              "    }\n",
              "\n",
              "    .colab-df-buttons div {\n",
              "      margin-bottom: 4px;\n",
              "    }\n",
              "\n",
              "    [theme=dark] .colab-df-convert {\n",
              "      background-color: #3B4455;\n",
              "      fill: #D2E3FC;\n",
              "    }\n",
              "\n",
              "    [theme=dark] .colab-df-convert:hover {\n",
              "      background-color: #434B5C;\n",
              "      box-shadow: 0px 1px 3px 1px rgba(0, 0, 0, 0.15);\n",
              "      filter: drop-shadow(0px 1px 2px rgba(0, 0, 0, 0.3));\n",
              "      fill: #FFFFFF;\n",
              "    }\n",
              "  </style>\n",
              "\n",
              "    <script>\n",
              "      const buttonEl =\n",
              "        document.querySelector('#df-cc9f8611-ec6c-4252-977d-df5968074fb9 button.colab-df-convert');\n",
              "      buttonEl.style.display =\n",
              "        google.colab.kernel.accessAllowed ? 'block' : 'none';\n",
              "\n",
              "      async function convertToInteractive(key) {\n",
              "        const element = document.querySelector('#df-cc9f8611-ec6c-4252-977d-df5968074fb9');\n",
              "        const dataTable =\n",
              "          await google.colab.kernel.invokeFunction('convertToInteractive',\n",
              "                                                    [key], {});\n",
              "        if (!dataTable) return;\n",
              "\n",
              "        const docLinkHtml = 'Like what you see? Visit the ' +\n",
              "          '<a target=\"_blank\" href=https://colab.research.google.com/notebooks/data_table.ipynb>data table notebook</a>'\n",
              "          + ' to learn more about interactive tables.';\n",
              "        element.innerHTML = '';\n",
              "        dataTable['output_type'] = 'display_data';\n",
              "        await google.colab.output.renderOutput(dataTable, element);\n",
              "        const docLink = document.createElement('div');\n",
              "        docLink.innerHTML = docLinkHtml;\n",
              "        element.appendChild(docLink);\n",
              "      }\n",
              "    </script>\n",
              "  </div>\n",
              "\n",
              "\n",
              "<div id=\"df-309a89e4-44ab-448c-b52f-4fe2bfecd0a3\">\n",
              "  <button class=\"colab-df-quickchart\" onclick=\"quickchart('df-309a89e4-44ab-448c-b52f-4fe2bfecd0a3')\"\n",
              "            title=\"Suggest charts\"\n",
              "            style=\"display:none;\">\n",
              "\n",
              "<svg xmlns=\"http://www.w3.org/2000/svg\" height=\"24px\"viewBox=\"0 0 24 24\"\n",
              "     width=\"24px\">\n",
              "    <g>\n",
              "        <path d=\"M19 3H5c-1.1 0-2 .9-2 2v14c0 1.1.9 2 2 2h14c1.1 0 2-.9 2-2V5c0-1.1-.9-2-2-2zM9 17H7v-7h2v7zm4 0h-2V7h2v10zm4 0h-2v-4h2v4z\"/>\n",
              "    </g>\n",
              "</svg>\n",
              "  </button>\n",
              "\n",
              "<style>\n",
              "  .colab-df-quickchart {\n",
              "      --bg-color: #E8F0FE;\n",
              "      --fill-color: #1967D2;\n",
              "      --hover-bg-color: #E2EBFA;\n",
              "      --hover-fill-color: #174EA6;\n",
              "      --disabled-fill-color: #AAA;\n",
              "      --disabled-bg-color: #DDD;\n",
              "  }\n",
              "\n",
              "  [theme=dark] .colab-df-quickchart {\n",
              "      --bg-color: #3B4455;\n",
              "      --fill-color: #D2E3FC;\n",
              "      --hover-bg-color: #434B5C;\n",
              "      --hover-fill-color: #FFFFFF;\n",
              "      --disabled-bg-color: #3B4455;\n",
              "      --disabled-fill-color: #666;\n",
              "  }\n",
              "\n",
              "  .colab-df-quickchart {\n",
              "    background-color: var(--bg-color);\n",
              "    border: none;\n",
              "    border-radius: 50%;\n",
              "    cursor: pointer;\n",
              "    display: none;\n",
              "    fill: var(--fill-color);\n",
              "    height: 32px;\n",
              "    padding: 0;\n",
              "    width: 32px;\n",
              "  }\n",
              "\n",
              "  .colab-df-quickchart:hover {\n",
              "    background-color: var(--hover-bg-color);\n",
              "    box-shadow: 0 1px 2px rgba(60, 64, 67, 0.3), 0 1px 3px 1px rgba(60, 64, 67, 0.15);\n",
              "    fill: var(--button-hover-fill-color);\n",
              "  }\n",
              "\n",
              "  .colab-df-quickchart-complete:disabled,\n",
              "  .colab-df-quickchart-complete:disabled:hover {\n",
              "    background-color: var(--disabled-bg-color);\n",
              "    fill: var(--disabled-fill-color);\n",
              "    box-shadow: none;\n",
              "  }\n",
              "\n",
              "  .colab-df-spinner {\n",
              "    border: 2px solid var(--fill-color);\n",
              "    border-color: transparent;\n",
              "    border-bottom-color: var(--fill-color);\n",
              "    animation:\n",
              "      spin 1s steps(1) infinite;\n",
              "  }\n",
              "\n",
              "  @keyframes spin {\n",
              "    0% {\n",
              "      border-color: transparent;\n",
              "      border-bottom-color: var(--fill-color);\n",
              "      border-left-color: var(--fill-color);\n",
              "    }\n",
              "    20% {\n",
              "      border-color: transparent;\n",
              "      border-left-color: var(--fill-color);\n",
              "      border-top-color: var(--fill-color);\n",
              "    }\n",
              "    30% {\n",
              "      border-color: transparent;\n",
              "      border-left-color: var(--fill-color);\n",
              "      border-top-color: var(--fill-color);\n",
              "      border-right-color: var(--fill-color);\n",
              "    }\n",
              "    40% {\n",
              "      border-color: transparent;\n",
              "      border-right-color: var(--fill-color);\n",
              "      border-top-color: var(--fill-color);\n",
              "    }\n",
              "    60% {\n",
              "      border-color: transparent;\n",
              "      border-right-color: var(--fill-color);\n",
              "    }\n",
              "    80% {\n",
              "      border-color: transparent;\n",
              "      border-right-color: var(--fill-color);\n",
              "      border-bottom-color: var(--fill-color);\n",
              "    }\n",
              "    90% {\n",
              "      border-color: transparent;\n",
              "      border-bottom-color: var(--fill-color);\n",
              "    }\n",
              "  }\n",
              "</style>\n",
              "\n",
              "  <script>\n",
              "    async function quickchart(key) {\n",
              "      const quickchartButtonEl =\n",
              "        document.querySelector('#' + key + ' button');\n",
              "      quickchartButtonEl.disabled = true;  // To prevent multiple clicks.\n",
              "      quickchartButtonEl.classList.add('colab-df-spinner');\n",
              "      try {\n",
              "        const charts = await google.colab.kernel.invokeFunction(\n",
              "            'suggestCharts', [key], {});\n",
              "      } catch (error) {\n",
              "        console.error('Error during call to suggestCharts:', error);\n",
              "      }\n",
              "      quickchartButtonEl.classList.remove('colab-df-spinner');\n",
              "      quickchartButtonEl.classList.add('colab-df-quickchart-complete');\n",
              "    }\n",
              "    (() => {\n",
              "      let quickchartButtonEl =\n",
              "        document.querySelector('#df-309a89e4-44ab-448c-b52f-4fe2bfecd0a3 button');\n",
              "      quickchartButtonEl.style.display =\n",
              "        google.colab.kernel.accessAllowed ? 'block' : 'none';\n",
              "    })();\n",
              "  </script>\n",
              "</div>\n",
              "\n",
              "    </div>\n",
              "  </div>\n"
            ],
            "application/vnd.google.colaboratory.intrinsic+json": {
              "type": "dataframe",
              "variable_name": "df",
              "summary": "{\n  \"name\": \"df\",\n  \"rows\": 50,\n  \"fields\": [\n    {\n      \"column\": \"Murder\",\n      \"properties\": {\n        \"dtype\": \"number\",\n        \"std\": 4.355509764209288,\n        \"min\": 0.8,\n        \"max\": 17.4,\n        \"num_unique_values\": 43,\n        \"samples\": [\n          12.7,\n          12.2,\n          7.4\n        ],\n        \"semantic_type\": \"\",\n        \"description\": \"\"\n      }\n    },\n    {\n      \"column\": \"Assault\",\n      \"properties\": {\n        \"dtype\": \"number\",\n        \"std\": 83,\n        \"min\": 45,\n        \"max\": 337,\n        \"num_unique_values\": 45,\n        \"samples\": [\n          48,\n          252,\n          57\n        ],\n        \"semantic_type\": \"\",\n        \"description\": \"\"\n      }\n    },\n    {\n      \"column\": \"UrbanPop\",\n      \"properties\": {\n        \"dtype\": \"number\",\n        \"std\": 14,\n        \"min\": 32,\n        \"max\": 91,\n        \"num_unique_values\": 36,\n        \"samples\": [\n          39,\n          66,\n          86\n        ],\n        \"semantic_type\": \"\",\n        \"description\": \"\"\n      }\n    },\n    {\n      \"column\": \"Rape\",\n      \"properties\": {\n        \"dtype\": \"number\",\n        \"std\": 9.36638453105965,\n        \"min\": 7.3,\n        \"max\": 46.0,\n        \"num_unique_values\": 48,\n        \"samples\": [\n          9.5,\n          25.5,\n          46.0\n        ],\n        \"semantic_type\": \"\",\n        \"description\": \"\"\n      }\n    }\n  ]\n}"
            }
          },
          "metadata": {},
          "execution_count": 2
        }
      ]
    },
    {
      "cell_type": "markdown",
      "source": [
        "# General Information About to the Dataset"
      ],
      "metadata": {
        "id": "lvNsOMH-zauN"
      }
    },
    {
      "cell_type": "code",
      "source": [
        "def check_df(dataframe,head=5):\n",
        "  print(\"######################### Head #########################\")\n",
        "  print(dataframe.head(head))\n",
        "  print(\"######################### Tail #########################\")\n",
        "  print(dataframe.tail(head))\n",
        "  print(\"######################### Shape #########################\")\n",
        "  print(dataframe.shape)\n",
        "  print(\"######################### Types #########################\")\n",
        "  print(dataframe.dtypes)\n",
        "  print(\"######################### NA #########################\")\n",
        "  print(dataframe.isnull().sum())\n",
        "  print(\"######################### Qurtiles #########################\")\n",
        "  print(dataframe.describe([0, 0.05, 0.50, 0.95, 0.99, 1]).T)"
      ],
      "metadata": {
        "id": "JMnxdEQgy4rJ"
      },
      "execution_count": null,
      "outputs": []
    },
    {
      "cell_type": "code",
      "source": [
        "check_df(df)"
      ],
      "metadata": {
        "colab": {
          "base_uri": "https://localhost:8080/"
        },
        "id": "O_Mn9LZBzhJl",
        "outputId": "05cb0672-fb23-4867-da5a-d56b1b61e8fb"
      },
      "execution_count": null,
      "outputs": [
        {
          "output_type": "stream",
          "name": "stdout",
          "text": [
            "######################### Head #########################\n",
            "            Murder  Assault  UrbanPop    Rape\n",
            "Alabama    13.2000      236        58 21.2000\n",
            "Alaska     10.0000      263        48 44.5000\n",
            "Arizona     8.1000      294        80 31.0000\n",
            "Arkansas    8.8000      190        50 19.5000\n",
            "California  9.0000      276        91 40.6000\n",
            "######################### Tail #########################\n",
            "               Murder  Assault  UrbanPop    Rape\n",
            "Virginia       8.5000      156        63 20.7000\n",
            "Washington     4.0000      145        73 26.2000\n",
            "West Virginia  5.7000       81        39  9.3000\n",
            "Wisconsin      2.6000       53        66 10.8000\n",
            "Wyoming        6.8000      161        60 15.6000\n",
            "######################### Shape #########################\n",
            "(50, 4)\n",
            "######################### Types #########################\n",
            "Murder      float64\n",
            "Assault       int64\n",
            "UrbanPop      int64\n",
            "Rape        float64\n",
            "dtype: object\n",
            "######################### NA #########################\n",
            "Murder      0\n",
            "Assault     0\n",
            "UrbanPop    0\n",
            "Rape        0\n",
            "dtype: int64\n",
            "######################### Qurtiles #########################\n",
            "           count     mean     std     min      0%      5%      50%      95%      99%     100%      max\n",
            "Murder   50.0000   7.7880  4.3555  0.8000  0.8000  2.1450   7.2500  15.4000  16.7630  17.4000  17.4000\n",
            "Assault  50.0000 170.7600 83.3377 45.0000 45.0000 50.2500 159.0000 297.3000 336.0200 337.0000 337.0000\n",
            "UrbanPop 50.0000  65.5400 14.4748 32.0000 32.0000 44.0000  66.0000  86.5500  90.0200  91.0000  91.0000\n",
            "Rape     50.0000  21.2320  9.3664  7.3000  7.3000  8.7500  20.1000  39.7450  45.2650  46.0000  46.0000\n"
          ]
        }
      ]
    },
    {
      "cell_type": "markdown",
      "source": [
        "# Analysis of Categorical and Numerical Variables"
      ],
      "metadata": {
        "id": "cDzM8mJCznw4"
      }
    },
    {
      "cell_type": "code",
      "source": [
        "def grab_col_names(dataframe, cat_th=10, car_th=20):\n",
        "  #Catgeorical Variable Selection\n",
        "  cat_cols = [col for col in dataframe.columns if str(dataframe[col].dtypes) in [\"category\",\"object\",\"bool\"]]\n",
        "  num_but_cat = [col for col in dataframe.columns if dataframe[col].nunique() < cat_th and dataframe[col].dtypes in [\"uint8\",\"int64\",\"float64\"]]\n",
        "  cat_but_car = [col for col in dataframe.columns if dataframe[col].nunique() > car_th and str(dataframe[col].dtypes) in [\"category\",\"object\"]]\n",
        "  cat_cols = cat_cols + num_but_cat\n",
        "  cat_cols = [col for col in cat_cols if col not in cat_but_car]\n",
        "\n",
        "  #Numerical Variable Selection\n",
        "  num_cols = [col for col in dataframe.columns if dataframe[col].dtypes in [\"uint8\",\"int64\",\"float64\"]]\n",
        "  num_cols = [col for col in num_cols if col not in cat_cols]\n",
        "\n",
        "  return cat_cols, num_cols, cat_but_car"
      ],
      "metadata": {
        "id": "-EEO7jW8ziQ-"
      },
      "execution_count": null,
      "outputs": []
    },
    {
      "cell_type": "code",
      "source": [
        "cat_cols, num_cols, cat_but_car = grab_col_names(df)\n",
        "\n",
        "#Print Categorical and Numerical Variables\n",
        "print(f\"Observations: {df.shape[0]}\")\n",
        "print(f\"Variables: {df.shape[1]}\")\n",
        "print(f\"Cat_cols: {len(cat_cols)}\")\n",
        "print(f\"Num_cols: {len(num_cols)}\")\n",
        "print(f\"Cat_but_car: {len(cat_but_car)}\")"
      ],
      "metadata": {
        "colab": {
          "base_uri": "https://localhost:8080/"
        },
        "id": "opQm3huQzvm3",
        "outputId": "450e1dc1-658e-4d41-f054-375ed28cd91f"
      },
      "execution_count": null,
      "outputs": [
        {
          "output_type": "stream",
          "name": "stdout",
          "text": [
            "Observations: 50\n",
            "Variables: 4\n",
            "Cat_cols: 0\n",
            "Num_cols: 4\n",
            "Cat_but_car: 0\n"
          ]
        }
      ]
    },
    {
      "cell_type": "code",
      "source": [
        "def num_summary(dataframe, num_col, plot=False):\n",
        "  quantiles = [0.01, 0.05, 0.10, 0.20, 0.30, 0.40, 0.50, 0.60, 0.70, 0.80, 0.90, 0.95, 0.99]\n",
        "  print(dataframe[num_col].describe(quantiles).T)\n",
        "\n",
        "  if plot:\n",
        "    dataframe[num_col].hist(bins=20)\n",
        "    plt.xlabel(num_col)\n",
        "    plt.title(num_col)\n",
        "    plt.show(block=True)"
      ],
      "metadata": {
        "id": "BecFgnO3zxV0"
      },
      "execution_count": null,
      "outputs": []
    },
    {
      "cell_type": "code",
      "source": [
        "def num_summary_df(dataframe):\n",
        "  cat_cols, num_cols, cat_but_car = grab_col_names(df)\n",
        "  for col in num_cols:\n",
        "    num_summary(dataframe, col, plot=True)"
      ],
      "metadata": {
        "id": "2fkwR8IEz7LB"
      },
      "execution_count": null,
      "outputs": []
    },
    {
      "cell_type": "code",
      "source": [
        "num_summary_df(df)"
      ],
      "metadata": {
        "colab": {
          "base_uri": "https://localhost:8080/",
          "height": 1000
        },
        "id": "2JJk5kAZ0AuZ",
        "outputId": "792ab625-6240-4a9a-f0fe-a9a31391ae55"
      },
      "execution_count": null,
      "outputs": [
        {
          "output_type": "stream",
          "name": "stdout",
          "text": [
            "count   50.0000\n",
            "mean     7.7880\n",
            "std      4.3555\n",
            "min      0.8000\n",
            "1%       1.4370\n",
            "5%       2.1450\n",
            "10%      2.5600\n",
            "20%      3.3800\n",
            "30%      4.7500\n",
            "40%      6.0000\n",
            "50%      7.2500\n",
            "60%      8.6200\n",
            "70%     10.1200\n",
            "80%     12.1200\n",
            "90%     13.3200\n",
            "95%     15.4000\n",
            "99%     16.7630\n",
            "max     17.4000\n",
            "Name: Murder, dtype: float64\n"
          ]
        },
        {
          "output_type": "display_data",
          "data": {
            "text/plain": [
              "<Figure size 640x480 with 1 Axes>"
            ],
            "image/png": "[encoded data removed]"
          },
          "metadata": {}
        },
        {
          "output_type": "stream",
          "name": "stdout",
          "text": [
            "count    50.0000\n",
            "mean    170.7600\n",
            "std      83.3377\n",
            "min      45.0000\n",
            "1%       45.4900\n",
            "5%       50.2500\n",
            "10%      56.9000\n",
            "20%      98.8000\n",
            "30%     112.1000\n",
            "40%     135.0000\n",
            "50%     159.0000\n",
            "60%     188.8000\n",
            "70%     236.6000\n",
            "80%     254.2000\n",
            "90%     279.6000\n",
            "95%     297.3000\n",
            "99%     336.0200\n",
            "max     337.0000\n",
            "Name: Assault, dtype: float64\n"
          ]
        },
        {
          "output_type": "display_data",
          "data": {
            "text/plain": [
              "<Figure size 640x480 with 1 Axes>"
            ],
            "image/png": "[encoded data removed]"
          },
          "metadata": {}
        },
        {
          "output_type": "stream",
          "name": "stdout",
          "text": [
            "count   50.0000\n",
            "mean    65.5400\n",
            "std     14.4748\n",
            "min     32.0000\n",
            "1%      35.4300\n",
            "5%      44.0000\n",
            "10%     45.0000\n",
            "20%     51.8000\n",
            "30%     57.7000\n",
            "40%     62.6000\n",
            "50%     66.0000\n",
            "60%     70.0000\n",
            "70%     74.3000\n",
            "80%     80.0000\n",
            "90%     83.2000\n",
            "95%     86.5500\n",
            "99%     90.0200\n",
            "max     91.0000\n",
            "Name: UrbanPop, dtype: float64\n"
          ]
        },
        {
          "output_type": "display_data",
          "data": {
            "text/plain": [
              "<Figure size 640x480 with 1 Axes>"
            ],
            "image/png": "[encoded data removed]"
          },
          "metadata": {}
        },
        {
          "output_type": "stream",
          "name": "stdout",
          "text": [
            "count   50.0000\n",
            "mean    21.2320\n",
            "std      9.3664\n",
            "min      7.3000\n",
            "1%       7.5450\n",
            "5%       8.7500\n",
            "10%     10.6700\n",
            "20%     13.9200\n",
            "30%     16.0100\n",
            "40%     16.8600\n",
            "50%     20.1000\n",
            "60%     21.7200\n",
            "70%     25.5900\n",
            "80%     27.8800\n",
            "90%     32.4000\n",
            "95%     39.7450\n",
            "99%     45.2650\n",
            "max     46.0000\n",
            "Name: Rape, dtype: float64\n"
          ]
        },
        {
          "output_type": "display_data",
          "data": {
            "text/plain": [
              "<Figure size 640x480 with 1 Axes>"
            ],
            "image/png": "[encoded data removed]"
          },
          "metadata": {}
        }
      ]
    },
    {
      "cell_type": "markdown",
      "source": [
        "# Correlation Analysis"
      ],
      "metadata": {
        "id": "u3Fe3Qvu0HHf"
      }
    },
    {
      "cell_type": "code",
      "source": [
        "def correlated_cols(dataframe, plot=False):\n",
        "  num_cols = [col for col in dataframe.columns if dataframe[col].dtypes in [\"uint8\", \"int64\", \"float64\"]]\n",
        "  corr = dataframe[num_cols].corr()\n",
        "  print(corr)\n",
        "\n",
        "  if plot:\n",
        "    sns.set(rc={'figure.figsize': (7,5)})\n",
        "    sns.heatmap(corr, cmap='magma', annot=True, fmt=\".2f\")\n",
        "    plt.show()"
      ],
      "metadata": {
        "id": "g7T6jUtr0CAF"
      },
      "execution_count": null,
      "outputs": []
    },
    {
      "cell_type": "code",
      "source": [
        "correlated_cols(df, plot=True)"
      ],
      "metadata": {
        "colab": {
          "base_uri": "https://localhost:8080/",
          "height": 545
        },
        "id": "fmq-Fsio0WQ8",
        "outputId": "433d14fd-cbab-40d5-a809-b7aaf20ab0c4"
      },
      "execution_count": null,
      "outputs": [
        {
          "output_type": "stream",
          "name": "stdout",
          "text": [
            "          Murder  Assault  UrbanPop   Rape\n",
            "Murder    1.0000   0.8019    0.0696 0.5636\n",
            "Assault   0.8019   1.0000    0.2589 0.6652\n",
            "UrbanPop  0.0696   0.2589    1.0000 0.4113\n",
            "Rape      0.5636   0.6652    0.4113 1.0000\n"
          ]
        },
        {
          "output_type": "display_data",
          "data": {
            "text/plain": [
              "<Figure size 700x500 with 2 Axes>"
            ],
            "image/png": "[encoded data removed]"
          },
          "metadata": {}
        }
      ]
    },
    {
      "cell_type": "code",
      "source": [
        "def high_correlated_cols(dataframe, corr_th = 0.90, plot=False):\n",
        "  num_cols = [col for col in dataframe.columns if dataframe[col].dtypes in [\"uint8\", \"int64\", \"float64\"]]\n",
        "  corr = dataframe[num_cols].corr()\n",
        "  corr_matrix = corr.abs()\n",
        "  upper_triangular_matrix = corr_matrix.where(np.triu(np.ones(corr_matrix.shape), k=1).astype(bool))\n",
        "  drop_list = [col for col in upper_triangular_matrix.columns if any(upper_triangular_matrix[col] > corr_th)]\n",
        "  if drop_list == []:\n",
        "    print(\"Aftre corelation analysis, we dont need to remove variables\")\n",
        "\n",
        "  if plot:\n",
        "    sns.set(rc={'figure.figsize': (7,5)})\n",
        "    sns.heatmap(corr, cmap='RdBu', annot=True, fmt=\".2f\")\n",
        "    plt.show()\n",
        "\n",
        "  return drop_list"
      ],
      "metadata": {
        "id": "GrcGelal0Y-f"
      },
      "execution_count": null,
      "outputs": []
    },
    {
      "cell_type": "code",
      "source": [
        "drop_list = high_correlated_cols(df, plot=True)"
      ],
      "metadata": {
        "colab": {
          "base_uri": "https://localhost:8080/",
          "height": 474
        },
        "id": "h6ur180T0i3D",
        "outputId": "64b9748d-5525-472c-c347-1a835acea70b"
      },
      "execution_count": null,
      "outputs": [
        {
          "output_type": "stream",
          "name": "stdout",
          "text": [
            "Aftre corelation analysis, we dont need to remove variables\n"
          ]
        },
        {
          "output_type": "display_data",
          "data": {
            "text/plain": [
              "<Figure size 700x500 with 2 Axes>"
            ],
            "image/png": "[encoded data removed]"
          },
          "metadata": {}
        }
      ]
    },
    {
      "cell_type": "markdown",
      "source": [
        "# Missing Value Analysis"
      ],
      "metadata": {
        "id": "fm5Py0YP0znF"
      }
    },
    {
      "cell_type": "code",
      "source": [
        "df.isnull().sum()"
      ],
      "metadata": {
        "colab": {
          "base_uri": "https://localhost:8080/"
        },
        "id": "GteIGO2k0oh3",
        "outputId": "4846300a-5b3e-449f-c675-e10bdcf186bc"
      },
      "execution_count": null,
      "outputs": [
        {
          "output_type": "execute_result",
          "data": {
            "text/plain": [
              "Murder      0\n",
              "Assault     0\n",
              "UrbanPop    0\n",
              "Rape        0\n",
              "dtype: int64"
            ]
          },
          "metadata": {},
          "execution_count": 14
        }
      ]
    },
    {
      "cell_type": "code",
      "source": [
        "def missing_value_table(dataframe, na_names=False):\n",
        "  na_columns = [col for col in dataframe.columns if dataframe[col].isnull().sum() > 0]\n",
        "  n_miss = dataframe[na_columns].isnull().sum().sort_values(ascending=False)\n",
        "  ratio = (dataframe[na_columns].isnull().sum() / dataframe.shape[0] * 100).sort_values(ascending=False)\n",
        "  missing_df = pd.concat([n_miss, np.round(ratio,2)], axis=1, keys=[\"n_miss\", \"ratio\"])\n",
        "  print(missing_df)\n",
        "\n",
        "  if na_names:\n",
        "    print(25*\"#\", \"NA Columns\", 25*\"#\")\n",
        "    return na_columns"
      ],
      "metadata": {
        "id": "R790Xv4e04Fk"
      },
      "execution_count": null,
      "outputs": []
    },
    {
      "cell_type": "code",
      "source": [
        "na_columns = missing_value_table(df, na_names=True)"
      ],
      "metadata": {
        "colab": {
          "base_uri": "https://localhost:8080/"
        },
        "id": "fHs34F82084X",
        "outputId": "9d7769b3-ea7d-46d3-8f08-a647119c3369"
      },
      "execution_count": null,
      "outputs": [
        {
          "output_type": "stream",
          "name": "stdout",
          "text": [
            "Empty DataFrame\n",
            "Columns: [n_miss, ratio]\n",
            "Index: []\n",
            "######################### NA Columns #########################\n"
          ]
        }
      ]
    },
    {
      "cell_type": "code",
      "source": [
        "def fill_na_with_median(dataframe):\n",
        "  dataframe = dataframe.apply(lambda x: x.fillna(x.median()) if x.dtype not in [\"category\", \"object\", \"bool\"] else x, axis=0)\n",
        "  return dataframe"
      ],
      "metadata": {
        "id": "GzsJ5Uq00-oQ"
      },
      "execution_count": null,
      "outputs": []
    },
    {
      "cell_type": "code",
      "source": [
        "df = fill_na_with_median(df)"
      ],
      "metadata": {
        "id": "Wvkagrbz1EM0"
      },
      "execution_count": null,
      "outputs": []
    },
    {
      "cell_type": "code",
      "source": [
        "df.isnull().sum().sum()"
      ],
      "metadata": {
        "colab": {
          "base_uri": "https://localhost:8080/"
        },
        "id": "SmIzhiCd1F_J",
        "outputId": "b7ff4362-943c-48de-f494-afa6d3bb1bd9"
      },
      "execution_count": null,
      "outputs": [
        {
          "output_type": "execute_result",
          "data": {
            "text/plain": [
              "0"
            ]
          },
          "metadata": {},
          "execution_count": 19
        }
      ]
    },
    {
      "cell_type": "markdown",
      "source": [
        "# Outlier Analysis"
      ],
      "metadata": {
        "id": "56sLj8Ze1LAk"
      }
    },
    {
      "cell_type": "code",
      "source": [
        "def outlier_thresholds(dataframe,col_name,q1=0.10,q3=0.90):\n",
        "  quartile1 = dataframe[col_name].quantile(q1)\n",
        "  quartile3 = dataframe[col_name].quantile(q3)\n",
        "  interquartile_range = quartile3 - quartile1\n",
        "  low_limit = quartile1 - 1.5 * interquartile_range\n",
        "  up_limit = quartile3 + 1.5 * interquartile_range\n",
        "  return low_limit,up_limit"
      ],
      "metadata": {
        "id": "j2eldgMm1IRG"
      },
      "execution_count": null,
      "outputs": []
    },
    {
      "cell_type": "code",
      "source": [
        "def check_outlier(dataframe, col_name):\n",
        "  low_limit,up_limit = outlier_thresholds(dataframe,col_name)\n",
        "  if dataframe[(dataframe[col_name] > up_limit) | (dataframe[col_name] < low_limit)].any(axis=None):\n",
        "    return True\n",
        "  else:\n",
        "    return False"
      ],
      "metadata": {
        "id": "R-kPu8Ec1XJ8"
      },
      "execution_count": null,
      "outputs": []
    },
    {
      "cell_type": "code",
      "source": [
        "def replace_with_thresholds(dataframe, col_name):\n",
        "  low_limit, up_limit = outlier_thresholds(dataframe, col_name)\n",
        "  dataframe.loc[(dataframe[col_name] < low_limit), col_name] = low_limit\n",
        "  dataframe.loc[(dataframe[col_name] > up_limit), col_name] = up_limit"
      ],
      "metadata": {
        "id": "gPBVTpGb1ZFV"
      },
      "execution_count": null,
      "outputs": []
    },
    {
      "cell_type": "code",
      "source": [
        "def solve_outliers(dataframe):\n",
        "  cat_cols, num_cols, cat_but_car = grab_col_names(dataframe)\n",
        "  for col in num_cols:\n",
        "    if col:\n",
        "      print(col, check_outlier(dataframe, col))\n",
        "      if check_outlier(dataframe, col):\n",
        "        replace_with_thresholds(dataframe, col)"
      ],
      "metadata": {
        "id": "fQe85KoR1a-G"
      },
      "execution_count": null,
      "outputs": []
    },
    {
      "cell_type": "code",
      "source": [
        "solve_outliers(df)"
      ],
      "metadata": {
        "colab": {
          "base_uri": "https://localhost:8080/"
        },
        "id": "hxrK-eJ91dV7",
        "outputId": "f185c785-7633-45f2-a68b-7ab7d4d56b98"
      },
      "execution_count": null,
      "outputs": [
        {
          "output_type": "stream",
          "name": "stdout",
          "text": [
            "Murder False\n",
            "Assault False\n",
            "UrbanPop False\n",
            "Rape False\n"
          ]
        }
      ]
    },
    {
      "cell_type": "code",
      "source": [
        "def check_outlier_df(dataframe):\n",
        "  cat_cols, num_cols, cat_but_car = grab_col_names(dataframe)\n",
        "  for col in num_cols:\n",
        "    if col:\n",
        "      print(col, check_outlier(dataframe, col))"
      ],
      "metadata": {
        "id": "qfkSCFrf1wLA"
      },
      "execution_count": null,
      "outputs": []
    },
    {
      "cell_type": "code",
      "source": [
        "check_outlier_df(df)"
      ],
      "metadata": {
        "colab": {
          "base_uri": "https://localhost:8080/"
        },
        "id": "WmtJ0fwT17ea",
        "outputId": "94bab203-caaf-4077-c7ce-51dc8f4b212d"
      },
      "execution_count": null,
      "outputs": [
        {
          "output_type": "stream",
          "name": "stdout",
          "text": [
            "Murder False\n",
            "Assault False\n",
            "UrbanPop False\n",
            "Rape False\n"
          ]
        }
      ]
    },
    {
      "cell_type": "markdown",
      "source": [
        "# Create a PCA Model"
      ],
      "metadata": {
        "id": "ApnNsRNpzaVi"
      }
    },
    {
      "cell_type": "code",
      "source": [
        "def PCA_Model(dataframe, n_components=2, results=False, plot_pca=False, save_results=False):\n",
        "  dataframe = StandardScaler().fit_transform(dataframe)\n",
        "  pca_model = PCA(n_components=n_components)\n",
        "  pca_model_fit = pca_model.fit_transform(dataframe)\n",
        "  if results:\n",
        "    print(\"######################### Explained Variance #########################\")\n",
        "    print(\"Explained Variance: \", pca_model.explained_variance_ratio_)\n",
        "    print(\"######################### Explained Variance (All) #########################\")\n",
        "    print(\"Explained Variance: \", np.cumsum(pca_model.explained_variance_ratio_))\n",
        "\n",
        "  if plot_pca:\n",
        "    pca = PCA().fit(dataframe)\n",
        "    plt.figure(figsize=(15, 10))\n",
        "    plt.plot(np.cumsum(pca.explained_variance_ratio_))\n",
        "    plt.title(\"Explainability Ratio of Variables\")\n",
        "\n",
        "  if results:\n",
        "    pca_df = pd.DataFrame(data=pca_model_fit)\n",
        "    pca_df.to_csv(\"pca_df.csv\")"
      ],
      "metadata": {
        "id": "2Bb01vh01V1f"
      },
      "execution_count": 35,
      "outputs": []
    },
    {
      "cell_type": "code",
      "source": [
        "PCA_Model(df, results=True, plot_pca=True, save_results=True)"
      ],
      "metadata": {
        "colab": {
          "base_uri": "https://localhost:8080/",
          "height": 877
        },
        "id": "7lcU3LSe1Bpy",
        "outputId": "05f1e5fb-e327-4297-c8aa-dadb2b3588e9"
      },
      "execution_count": 34,
      "outputs": [
        {
          "output_type": "stream",
          "name": "stdout",
          "text": [
            "######################### Explained Variance #########################\n",
            "Explained Variance:  [0.62006039 0.24744129]\n",
            "######################### Explained Variance (All) #########################\n",
            "Explained Variance:  [0.62006039 0.86750168]\n"
          ]
        },
        {
          "output_type": "display_data",
          "data": {
            "text/plain": [
              "<Figure size 1500x1000 with 1 Axes>"
            ],
            "image/png": "[encoded data removed]"
          },
          "metadata": {}
        }
      ]
    },
    {
      "cell_type": "code",
      "source": [],
      "metadata": {
        "id": "I00mKigy2f5A"
      },
      "execution_count": null,
      "outputs": []
    }
  ]
}